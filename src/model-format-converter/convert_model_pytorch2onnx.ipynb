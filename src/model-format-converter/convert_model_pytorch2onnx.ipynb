{
 "cells": [
  {
   "cell_type": "code",
   "execution_count": 6,
   "id": "7769f7b4",
   "metadata": {},
   "outputs": [],
   "source": [
    "import os\n",
    "import warnings\n",
    "warnings.filterwarnings('ignore')\n",
    "import torch\n",
    "import torch.onnx\n",
    "import bts.model as model\n",
    "import bts.classifier as classifier\n",
    "\n",
    "device = torch.device('cuda' if torch.cuda.is_available() else 'cpu')\n",
    "FILTER_LIST = [16,32,64,128,256]\n",
    "TRAINED_MODEL_NAME = 'brain_tumor_segmentation_model_v2.pt'\n",
    "\n",
    "unet_model = model.DynamicUNet(FILTER_LIST)\n",
    "unet_classifier = classifier.BrainTumorClassifier(unet_model,device)\n",
    "unet_classifier.restore_model(os.path.join('saved_models',TRAINED_MODEL_NAME))\n",
    "\n",
    "# Create the 'saved_models' directory if it doesn't exist\n",
    "os.makedirs('saved_models', exist_ok=True)\n",
    "\n",
    "unet_model.eval()\n",
    "dummy_input = torch.zeros(1, 1, 512, 512).to('cuda')\n",
    "#     1 for the batch size (you can set this to 1 if you are dealing with single images at a time).\n",
    "#     1 for the number of channels (grayscale images have one channel).\n",
    "#     512 for the height of the image.\n",
    "#     512 for the width of the image.\n",
    "TRAINED_MODEL_NAME_ONNX = 'brain_tumor_segmentation_model_v3.onnx'\n",
    "onnx_path = os.path.join('saved_models',TRAINED_MODEL_NAME_ONNX)\n",
    "\n",
    "# Export the model to ONNX format\n",
    "torch.onnx.export(unet_model, dummy_input, onnx_path, verbose=True)"
   ]
  },
  {
   "cell_type": "code",
   "execution_count": null,
   "id": "b378bc50",
   "metadata": {},
   "outputs": [],
   "source": []
  }
 ],
 "metadata": {
  "kernelspec": {
   "display_name": "Python 3 (ipykernel)",
   "language": "python",
   "name": "python3"
  },
  "language_info": {
   "codemirror_mode": {
    "name": "ipython",
    "version": 3
   },
   "file_extension": ".py",
   "mimetype": "text/x-python",
   "name": "python",
   "nbconvert_exporter": "python",
   "pygments_lexer": "ipython3",
   "version": "3.11.5"
  }
 },
 "nbformat": 4,
 "nbformat_minor": 5
}
