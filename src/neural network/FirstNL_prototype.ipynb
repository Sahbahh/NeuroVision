{
 "cells": [
  {
   "cell_type": "markdown",
   "metadata": {},
   "source": [
    "# **What are .nii files?**\n",
    "NII format is created by Neuroimaging Informatics Technology Initiative. It is commonly used to store magnetic resonance imaging (MRI) data.\n",
    "\n",
    "This sections of the code is just to see how to open and visualize this .nii data in python."
   ]
  },
  {
   "cell_type": "code",
   "execution_count": null,
   "metadata": {},
   "outputs": [],
   "source": [
    "import nibabel as nib\n",
    "from glob import glob\n",
    "import matplotlib.pylab as plt"
   ]
  },
  {
   "cell_type": "code",
   "execution_count": null,
   "metadata": {},
   "outputs": [],
   "source": [
    "path = '/content/BraTS20_Training_001_flair.nii'"
   ]
  },
  {
   "cell_type": "code",
   "execution_count": null,
   "metadata": {},
   "outputs": [],
   "source": [
    "img = nib.load(path).get_fdata()\n",
    "img.shape"
   ]
  },
  {
   "cell_type": "code",
   "execution_count": null,
   "metadata": {},
   "outputs": [],
   "source": [
    "print(f\"The .nii files are stored in memory as numpy's: {type(img)}.\")"
   ]
  },
  {
   "cell_type": "markdown",
   "metadata": {},
   "source": [
    "# **Axial slices**\n",
    "The code here is to visualize the the Axial of the image.\n",
    "\n",
    "The Axial plane is an anatomical plane that divides the body into x and y plane."
   ]
  },
  {
   "cell_type": "code",
   "execution_count": null,
   "metadata": {},
   "outputs": [],
   "source": [
    "num_slices = img.shape[2]"
   ]
  },
  {
   "cell_type": "code",
   "execution_count": null,
   "metadata": {},
   "outputs": [],
   "source": [
    "num_columns = 4\n",
    "num_rows = (num_slices + num_columns - 1) // num_columns\n"
   ]
  },
  {
   "cell_type": "code",
   "execution_count": null,
   "metadata": {},
   "outputs": [],
   "source": [
    "# Visualize all Axial slices from the start\n",
    "for i in range(num_slices):\n",
    "    fig, ax = plt.subplots(figsize=(6, 6))  # Adjust figsize as needed\n",
    "    ax.imshow(img[:, :, i], cmap='gray', aspect='auto', vmin=0, vmax=255)\n",
    "    ax.axis('off')\n",
    "    plt.show()\n",
    "    print(i)"
   ]
  },
  {
   "cell_type": "markdown",
   "metadata": {},
   "source": [
    "# **Coronal slices**\n",
    "\n",
    "The code here is to visualize the the coronal of the image.\n",
    "\n",
    "The coronal plane is an anatomical plane that divides the body into dorsal and ventral sections. It is perpendicular to the sagittal and transverse planes."
   ]
  },
  {
   "cell_type": "code",
   "execution_count": null,
   "metadata": {},
   "outputs": [],
   "source": [
    "# Check the shape of the MRI data\n",
    "print(\"Shape of MRI data:\", img.shape)\n",
    "\n",
    "# Calculate the middle slice index\n",
    "num_coronal_slices = img.shape[0] "
   ]
  },
  {
   "cell_type": "code",
   "execution_count": null,
   "metadata": {},
   "outputs": [],
   "source": [
    "# Visualize all coronal slices from the start\n",
    "for i in range(num_coronal_slices):\n",
    "    fig, ax = plt.subplots(figsize=(6, 6))  # Adjust figsize as needed\n",
    "    ax.imshow(img[i, :, :], cmap='gray', aspect='auto', vmin=0, vmax=255)\n",
    "    ax.axis('off')\n",
    "    plt.show()\n",
    "    print(i)"
   ]
  },
  {
   "cell_type": "markdown",
   "metadata": {},
   "source": [
    "# **Sagittal slices**\n",
    "The code here is to visualize the the sagittal of the image."
   ]
  },
  {
   "cell_type": "code",
   "execution_count": null,
   "metadata": {},
   "outputs": [],
   "source": [
    "# Check the shape of the MRI data\n",
    "print(\"Shape of MRI data:\", img.shape)\n",
    "\n",
    "# Determine the number of slices in the second dimension (sagittal plane)\n",
    "num_sagittal_slices = img.shape[1]"
   ]
  },
  {
   "cell_type": "code",
   "execution_count": null,
   "metadata": {},
   "outputs": [],
   "source": [
    "# Visualize all sagittal slices from the start\n",
    "for i in range(num_sagittal_slices):\n",
    "    fig, ax = plt.subplots(figsize=(6, 6))  # Adjust figsize as needed\n",
    "    ax.imshow(img[:, i, :], cmap='gray', aspect='auto', vmin=0, vmax=255)\n",
    "    ax.axis('off')\n",
    "    plt.show()"
   ]
  }
 ],
 "metadata": {
  "language_info": {
   "name": "python"
  }
 },
 "nbformat": 4,
 "nbformat_minor": 2
}
